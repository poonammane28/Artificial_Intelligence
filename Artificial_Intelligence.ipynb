{
 "cells": [
  {
   "cell_type": "code",
   "execution_count": 1,
   "id": "f567b897-aa37-4c82-af35-c1476bd0c39b",
   "metadata": {},
   "outputs": [
    {
     "name": "stdout",
     "output_type": "stream",
     "text": [
      "              precision    recall  f1-score   support\n",
      "\n",
      "      action       0.00      0.00      0.00       1.0\n",
      "     fantasy       0.00      0.00      0.00       0.0\n",
      "     romance       0.00      0.00      0.00       1.0\n",
      "\n",
      "    accuracy                           0.00       2.0\n",
      "   macro avg       0.00      0.00      0.00       2.0\n",
      "weighted avg       0.00      0.00      0.00       2.0\n",
      "\n"
     ]
    },
    {
     "name": "stderr",
     "output_type": "stream",
     "text": [
      "C:\\Users\\poona\\AppData\\Local\\Programs\\Python\\Python312\\Lib\\site-packages\\sklearn\\metrics\\_classification.py:1509: UndefinedMetricWarning: Precision is ill-defined and being set to 0.0 in labels with no predicted samples. Use `zero_division` parameter to control this behavior.\n",
      "  _warn_prf(average, modifier, f\"{metric.capitalize()} is\", len(result))\n",
      "C:\\Users\\poona\\AppData\\Local\\Programs\\Python\\Python312\\Lib\\site-packages\\sklearn\\metrics\\_classification.py:1509: UndefinedMetricWarning: Recall is ill-defined and being set to 0.0 in labels with no true samples. Use `zero_division` parameter to control this behavior.\n",
      "  _warn_prf(average, modifier, f\"{metric.capitalize()} is\", len(result))\n",
      "C:\\Users\\poona\\AppData\\Local\\Programs\\Python\\Python312\\Lib\\site-packages\\sklearn\\metrics\\_classification.py:1509: UndefinedMetricWarning: Precision is ill-defined and being set to 0.0 in labels with no predicted samples. Use `zero_division` parameter to control this behavior.\n",
      "  _warn_prf(average, modifier, f\"{metric.capitalize()} is\", len(result))\n",
      "C:\\Users\\poona\\AppData\\Local\\Programs\\Python\\Python312\\Lib\\site-packages\\sklearn\\metrics\\_classification.py:1509: UndefinedMetricWarning: Recall is ill-defined and being set to 0.0 in labels with no true samples. Use `zero_division` parameter to control this behavior.\n",
      "  _warn_prf(average, modifier, f\"{metric.capitalize()} is\", len(result))\n",
      "C:\\Users\\poona\\AppData\\Local\\Programs\\Python\\Python312\\Lib\\site-packages\\sklearn\\metrics\\_classification.py:1509: UndefinedMetricWarning: Precision is ill-defined and being set to 0.0 in labels with no predicted samples. Use `zero_division` parameter to control this behavior.\n",
      "  _warn_prf(average, modifier, f\"{metric.capitalize()} is\", len(result))\n",
      "C:\\Users\\poona\\AppData\\Local\\Programs\\Python\\Python312\\Lib\\site-packages\\sklearn\\metrics\\_classification.py:1509: UndefinedMetricWarning: Recall is ill-defined and being set to 0.0 in labels with no true samples. Use `zero_division` parameter to control this behavior.\n",
      "  _warn_prf(average, modifier, f\"{metric.capitalize()} is\", len(result))\n"
     ]
    }
   ],
   "source": [
    "import pandas as pd\n",
    "from sklearn.feature_extraction.text import CountVectorizer\n",
    "from sklearn.model_selection import train_test_split\n",
    "from sklearn.tree import DecisionTreeClassifier\n",
    "from sklearn.metrics import classification_report\n",
    "\n",
    "# Sample data: webtoon descriptions and their categories\n",
    "data = {'description': [\"A love story in high school\", \n",
    "                        \"An epic battle between heroes and villains\", \n",
    "                        \"A journey through magical lands\", \n",
    "                        \"A teenage girl with superpowers\", \n",
    "                        \"Romantic adventures of a couple\",\n",
    "                        \"Fighting monsters in a dystopian world\"],\n",
    "        'category': ['romance', 'action', 'fantasy', 'fantasy', 'romance', 'action']}\n",
    "\n",
    "df = pd.DataFrame(data)\n",
    "\n",
    "# Convert text into numerical features\n",
    "vectorizer = CountVectorizer()\n",
    "X = vectorizer.fit_transform(df['description'])\n",
    "\n",
    "# Split the data into training and test sets\n",
    "X_train, X_test, y_train, y_test = train_test_split(X, df['category'], test_size=0.2, random_state=42)\n",
    "\n",
    "# Train a decision tree classifier\n",
    "model = DecisionTreeClassifier()\n",
    "model.fit(X_train, y_train)\n",
    "\n",
    "# Make predictions\n",
    "y_pred = model.predict(X_test)\n",
    "\n",
    "# Print the classification report\n",
    "print(classification_report(y_test, y_pred))\n"
   ]
  },
  {
   "cell_type": "code",
   "execution_count": 2,
   "id": "07bbb1d8-066f-4824-a9f7-d0a2a8e5ec1c",
   "metadata": {},
   "outputs": [
    {
     "name": "stdout",
     "output_type": "stream",
     "text": [
      "Positive comments: 80.0%\n",
      "Negative comments: 20.0%\n"
     ]
    }
   ],
   "source": [
    "from textblob import TextBlob\n",
    "\n",
    "# Sample comments\n",
    "comments = [\"I love this manga! The characters are amazing.\", \n",
    "            \"Not a fan of the storyline. It's too slow.\",\n",
    "            \"The artwork is stunning!\", \n",
    "            \"The story has potential but needs better pacing.\",\n",
    "            \"Amazing plot and great character development.\"]\n",
    "\n",
    "# Analyze sentiment\n",
    "positive_comments = 0\n",
    "negative_comments = 0\n",
    "\n",
    "for comment in comments:\n",
    "    analysis = TextBlob(comment)\n",
    "    if analysis.sentiment.polarity > 0:\n",
    "        positive_comments += 1\n",
    "    else:\n",
    "        negative_comments += 1\n",
    "\n",
    "# Summary of sentiment analysis\n",
    "total_comments = len(comments)\n",
    "print(f\"Positive comments: {positive_comments / total_comments * 100}%\")\n",
    "print(f\"Negative comments: {negative_comments / total_comments * 100}%\")\n"
   ]
  },
  {
   "cell_type": "code",
   "execution_count": 5,
   "id": "daa0b052-8e92-49cf-9fd4-20adad1b0899",
   "metadata": {},
   "outputs": [
    {
     "name": "stdin",
     "output_type": "stream",
     "text": [
      "Ask a question:  castle swimmer\n"
     ]
    },
    {
     "name": "stdout",
     "output_type": "stream",
     "text": [
      "I'm sorry, I don't understand that question.\n"
     ]
    }
   ],
   "source": [
    "import nltk\n",
    "from nltk.tokenize import word_tokenize\n",
    "\n",
    "# Simple chatbot function\n",
    "def chatbot_response(user_input):\n",
    "    user_input = user_input.lower()\n",
    "    tokens = word_tokenize(user_input)\n",
    "\n",
    "    # Keywords and responses\n",
    "    if \"castle swimmer\" in tokens:\n",
    "        return \"Castle Swimmer is a fantasy webtoon about a prophecy and two main characters struggling with their destinies.\"\n",
    "    elif \"main characters\" in tokens:\n",
    "        return \"The main characters are Kappa and Siren, who are bound by a prophecy.\"\n",
    "    else:\n",
    "        return \"I'm sorry, I don't understand that question.\"\n",
    "\n",
    "# Example interaction with the chatbot\n",
    "user_input = input(\"Ask a question: \")\n",
    "response = chatbot_response(user_input)\n",
    "print(response)\n"
   ]
  },
  {
   "cell_type": "code",
   "execution_count": 7,
   "id": "a2094633-4ee2-478c-a7e1-7f8c408caba3",
   "metadata": {},
   "outputs": [
    {
     "name": "stdin",
     "output_type": "stream",
     "text": [
      "Ask a question:  how is castle swimmer?\n"
     ]
    },
    {
     "name": "stdout",
     "output_type": "stream",
     "text": [
      "Castle Swimmer is a fantasy webtoon about a prophecy and two main characters struggling with their destinies.\n"
     ]
    }
   ],
   "source": [
    "import nltk\n",
    "from nltk.tokenize import word_tokenize\n",
    "\n",
    "# Enhanced chatbot function\n",
    "def chatbot_response(user_input):\n",
    "    user_input = user_input.lower()\n",
    "    tokens = set(word_tokenize(user_input))  # Convert the tokens to a set for easier matching\n",
    "\n",
    "    # Define keywords and responses\n",
    "    castle_keywords = {\"castle\", \"swimmer\", \"prophecy\", \"chapter\"}\n",
    "    characters_keywords = {\"main\", \"characters\", \"kappa\", \"siren\"}\n",
    "    \n",
    "    # Matching conditions\n",
    "    if tokens.intersection(castle_keywords):\n",
    "        return \"Castle Swimmer is a fantasy webtoon about a prophecy and two main characters struggling with their destinies.\"\n",
    "    elif tokens.intersection(characters_keywords):\n",
    "        return \"The main characters are Kappa and Siren, who are bound by a prophecy.\"\n",
    "    else:\n",
    "        return \"I'm sorry, I don't understand that question.\"\n",
    "\n",
    "# Example interaction with the chatbot\n",
    "user_input = input(\"Ask a question: \")\n",
    "response = chatbot_response(user_input)\n",
    "print(response)\n"
   ]
  },
  {
   "cell_type": "code",
   "execution_count": null,
   "id": "57bea38e-d5dd-49f8-b497-abdfa785fa06",
   "metadata": {},
   "outputs": [],
   "source": []
  }
 ],
 "metadata": {
  "kernelspec": {
   "display_name": "Python 3 (ipykernel)",
   "language": "python",
   "name": "python3"
  },
  "language_info": {
   "codemirror_mode": {
    "name": "ipython",
    "version": 3
   },
   "file_extension": ".py",
   "mimetype": "text/x-python",
   "name": "python",
   "nbconvert_exporter": "python",
   "pygments_lexer": "ipython3",
   "version": "3.12.1"
  }
 },
 "nbformat": 4,
 "nbformat_minor": 5
}
